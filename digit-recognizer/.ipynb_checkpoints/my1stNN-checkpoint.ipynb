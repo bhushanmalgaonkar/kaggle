{
 "cells": [
  {
   "cell_type": "code",
   "execution_count": 72,
   "metadata": {},
   "outputs": [],
   "source": [
    "import pandas as pd\n",
    "import numpy as np\n",
    "import time"
   ]
  },
  {
   "cell_type": "code",
   "execution_count": 236,
   "metadata": {},
   "outputs": [],
   "source": [
    "train_df = pd.read_csv('train.csv')"
   ]
  },
  {
   "cell_type": "markdown",
   "metadata": {},
   "source": [
    "# Convert dataframes into numpy ndarrays"
   ]
  },
  {
   "cell_type": "code",
   "execution_count": 237,
   "metadata": {},
   "outputs": [],
   "source": [
    "X = train_df.drop('label', axis=1).as_matrix()\n",
    "y = train_df[['label']].as_matrix()"
   ]
  },
  {
   "cell_type": "markdown",
   "metadata": {},
   "source": [
    "# Split training data into training and validation set"
   ]
  },
  {
   "cell_type": "code",
   "execution_count": 238,
   "metadata": {},
   "outputs": [],
   "source": [
    "from sklearn.model_selection import train_test_split\n",
    "X_train, X_val, y_train, y_val = train_test_split(X, y, test_size=0.3)"
   ]
  },
  {
   "cell_type": "markdown",
   "metadata": {},
   "source": [
    "# One hot encode"
   ]
  },
  {
   "cell_type": "code",
   "execution_count": 239,
   "metadata": {},
   "outputs": [],
   "source": [
    "y_train_one_hot = np.squeeze(np.eye(10)[y_train])\n",
    "y_val_one_hot = np.squeeze(np.eye(10)[y_val])"
   ]
  },
  {
   "cell_type": "code",
   "execution_count": 240,
   "metadata": {},
   "outputs": [
    {
     "data": {
      "text/plain": [
       "array([[0., 0., 1., 0., 0., 0., 0., 0., 0., 0.],\n",
       "       [0., 0., 0., 0., 0., 1., 0., 0., 0., 0.],\n",
       "       [0., 0., 0., 1., 0., 0., 0., 0., 0., 0.],\n",
       "       [0., 1., 0., 0., 0., 0., 0., 0., 0., 0.],\n",
       "       [0., 0., 0., 0., 0., 0., 0., 0., 1., 0.]])"
      ]
     },
     "execution_count": 240,
     "metadata": {},
     "output_type": "execute_result"
    }
   ],
   "source": [
    "y_train_one_hot[:5]"
   ]
  },
  {
   "cell_type": "code",
   "execution_count": 241,
   "metadata": {},
   "outputs": [
    {
     "name": "stdout",
     "output_type": "stream",
     "text": [
      "(29400, 784)\n",
      "(29400, 1)\n",
      "(12600, 784)\n",
      "(12600, 1)\n"
     ]
    },
    {
     "data": {
      "text/plain": [
       "[None, None, None, None]"
      ]
     },
     "execution_count": 241,
     "metadata": {},
     "output_type": "execute_result"
    }
   ],
   "source": [
    "[print(p.shape) for p in [X_train, y_train, X_val, y_val]]"
   ]
  },
  {
   "cell_type": "markdown",
   "metadata": {},
   "source": [
    "# Visualize few images"
   ]
  },
  {
   "cell_type": "code",
   "execution_count": 242,
   "metadata": {},
   "outputs": [],
   "source": [
    "import matplotlib.pyplot as plt\n",
    "%matplotlib inline"
   ]
  },
  {
   "cell_type": "code",
   "execution_count": 243,
   "metadata": {},
   "outputs": [
    {
     "data": {
      "image/png": "[encoded data removed]",
      "text/plain": [
       "<matplotlib.figure.Figure at 0x283a74bdf28>"
      ]
     },
     "metadata": {},
     "output_type": "display_data"
    }
   ],
   "source": [
    "plt.figure(figsize=(5, 5))\n",
    "for i in range(2):\n",
    "    for j in range(2):\n",
    "        k = i * 2 + j\n",
    "        plt.subplot(2, 2, k + 1)\n",
    "        plt.imshow(X_train[k].reshape(28, 28), cmap=\"Greys\");\n",
    "        plt.title('{0}'.format(y_train[k]))\n",
    "plt.tight_layout()\n",
    "plt.show()"
   ]
  },
  {
   "cell_type": "markdown",
   "metadata": {},
   "source": [
    "## Training parameters"
   ]
  },
  {
   "cell_type": "code",
   "execution_count": 353,
   "metadata": {},
   "outputs": [],
   "source": [
    "learning_rate = 0.01\n",
    "momentum = 0.5\n",
    "training_epochs = 5000\n",
    "batch_size = 100"
   ]
  },
  {
   "cell_type": "markdown",
   "metadata": {},
   "source": [
    "## Network parameters"
   ]
  },
  {
   "cell_type": "code",
   "execution_count": 354,
   "metadata": {},
   "outputs": [],
   "source": [
    "n_input = X_train.shape[1]\n",
    "n_hidden_1 = 500\n",
    "n_hidden_2 = 500\n",
    "n_hidden_3 = 500\n",
    "n_classes = 10   # output layer"
   ]
  },
  {
   "cell_type": "markdown",
   "metadata": {},
   "source": [
    "# Build Tensorflow model"
   ]
  },
  {
   "cell_type": "code",
   "execution_count": 355,
   "metadata": {},
   "outputs": [],
   "source": [
    "import tensorflow as tf"
   ]
  },
  {
   "cell_type": "markdown",
   "metadata": {},
   "source": [
    "## Inputs to the network"
   ]
  },
  {
   "cell_type": "code",
   "execution_count": 356,
   "metadata": {},
   "outputs": [
    {
     "data": {
      "text/plain": [
       "<tf.Tensor 'input_X_6:0' shape=(?, 784) dtype=float32>"
      ]
     },
     "execution_count": 356,
     "metadata": {},
     "output_type": "execute_result"
    }
   ],
   "source": [
    "input_X = tf.placeholder(dtype='float32', shape=[None, n_input], name='input_X')\n",
    "input_X"
   ]
  },
  {
   "cell_type": "code",
   "execution_count": 357,
   "metadata": {},
   "outputs": [
    {
     "data": {
      "text/plain": [
       "<tf.Tensor 'true_y_6:0' shape=(?, 10) dtype=float32>"
      ]
     },
     "execution_count": 357,
     "metadata": {},
     "output_type": "execute_result"
    }
   ],
   "source": [
    "true_y = tf.placeholder(dtype='float32', shape=[None, n_classes], name='true_y')\n",
    "true_y"
   ]
  },
  {
   "cell_type": "markdown",
   "metadata": {},
   "source": [
    "## Hidden layer 1"
   ]
  },
  {
   "cell_type": "markdown",
   "metadata": {},
   "source": [
    "### Gaussian noise with small sigma -> to initialize neural network weights"
   ]
  },
  {
   "cell_type": "code",
   "execution_count": 358,
   "metadata": {},
   "outputs": [
    {
     "data": {
      "text/plain": [
       "array([[ 0.0036098 ,  0.12207695,  0.01048418, ...,  0.00138888,\n",
       "        -0.07092121,  0.10185888],\n",
       "       [-0.06134148,  0.04275242,  0.169971  , ...,  0.01277237,\n",
       "         0.07696989,  0.14150051],\n",
       "       [ 0.04116966, -0.11436635, -0.08095791, ...,  0.06699855,\n",
       "         0.00638895, -0.05275612],\n",
       "       ...,\n",
       "       [ 0.02860464,  0.04684435,  0.09676805, ...,  0.07059218,\n",
       "        -0.02153782,  0.0433429 ],\n",
       "       [ 0.01681493, -0.0693917 ,  0.05040891, ...,  0.04403174,\n",
       "         0.03366538, -0.04062184],\n",
       "       [-0.05386997, -0.15691714, -0.13710757, ..., -0.07776494,\n",
       "        -0.04647763,  0.00290097]])"
      ]
     },
     "execution_count": 358,
     "metadata": {},
     "output_type": "execute_result"
    }
   ],
   "source": [
    "mu, sigma = 0, 0.07\n",
    "np.random.normal(mu, sigma, size=[n_input, n_hidden_1])"
   ]
  },
  {
   "cell_type": "code",
   "execution_count": 359,
   "metadata": {},
   "outputs": [
    {
     "data": {
      "text/plain": [
       "<tf.Variable 'weights_1_6:0' shape=(784, 500) dtype=float32_ref>"
      ]
     },
     "execution_count": 359,
     "metadata": {},
     "output_type": "execute_result"
    }
   ],
   "source": [
    "weights_1 = tf.Variable(dtype='float32', initial_value=np.random.normal(mu, sigma, size=[n_input, n_hidden_1]), name='weights_1')\n",
    "weights_1"
   ]
  },
  {
   "cell_type": "code",
   "execution_count": 360,
   "metadata": {},
   "outputs": [
    {
     "data": {
      "text/plain": [
       "<tf.Variable 'bias_1_6:0' shape=() dtype=float32_ref>"
      ]
     },
     "execution_count": 360,
     "metadata": {},
     "output_type": "execute_result"
    }
   ],
   "source": [
    "bias_1 = tf.Variable(dtype='float32', initial_value=np.random.normal(mu, sigma), name='bias_1')\n",
    "bias_1"
   ]
  },
  {
   "cell_type": "code",
   "execution_count": 361,
   "metadata": {},
   "outputs": [
    {
     "data": {
      "text/plain": [
       "<tf.Variable 'weights_2_6:0' shape=(500, 500) dtype=float32_ref>"
      ]
     },
     "execution_count": 361,
     "metadata": {},
     "output_type": "execute_result"
    }
   ],
   "source": [
    "weights_2 = tf.Variable(dtype='float32', initial_value=np.random.normal(mu, sigma, size=[n_hidden_1, n_hidden_2]), name='weights_2')\n",
    "weights_2"
   ]
  },
  {
   "cell_type": "code",
   "execution_count": 362,
   "metadata": {},
   "outputs": [
    {
     "data": {
      "text/plain": [
       "<tf.Variable 'bias_2_6:0' shape=() dtype=float32_ref>"
      ]
     },
     "execution_count": 362,
     "metadata": {},
     "output_type": "execute_result"
    }
   ],
   "source": [
    "bias_2 = tf.Variable(dtype='float32', initial_value=np.random.normal(mu, sigma), name='bias_2')\n",
    "bias_2"
   ]
  },
  {
   "cell_type": "code",
   "execution_count": 363,
   "metadata": {},
   "outputs": [
    {
     "data": {
      "text/plain": [
       "<tf.Variable 'weights_3_6:0' shape=(500, 500) dtype=float32_ref>"
      ]
     },
     "execution_count": 363,
     "metadata": {},
     "output_type": "execute_result"
    }
   ],
   "source": [
    "weights_3 = tf.Variable(dtype='float32', initial_value=np.random.normal(mu, sigma, size=[n_hidden_2, n_hidden_3]), name='weights_3')\n",
    "weights_3"
   ]
  },
  {
   "cell_type": "code",
   "execution_count": 364,
   "metadata": {},
   "outputs": [
    {
     "data": {
      "text/plain": [
       "<tf.Variable 'bias_3_6:0' shape=() dtype=float32_ref>"
      ]
     },
     "execution_count": 364,
     "metadata": {},
     "output_type": "execute_result"
    }
   ],
   "source": [
    "bias_3 = tf.Variable(dtype='float32', initial_value=np.random.normal(mu, sigma), name='bias_3')\n",
    "bias_3"
   ]
  },
  {
   "cell_type": "markdown",
   "metadata": {},
   "source": [
    "## Output layer"
   ]
  },
  {
   "cell_type": "code",
   "execution_count": 365,
   "metadata": {},
   "outputs": [
    {
     "data": {
      "text/plain": [
       "<tf.Variable 'weights_output_11:0' shape=(500, 10) dtype=float32_ref>"
      ]
     },
     "execution_count": 365,
     "metadata": {},
     "output_type": "execute_result"
    }
   ],
   "source": [
    "weights_output = tf.Variable(dtype='float32', initial_value=np.random.normal(mu, sigma, size=[n_hidden_2, n_classes]), name='weights_output')\n",
    "weights_output"
   ]
  },
  {
   "cell_type": "code",
   "execution_count": 366,
   "metadata": {},
   "outputs": [
    {
     "data": {
      "text/plain": [
       "<tf.Variable 'bias_output_6:0' shape=() dtype=float32_ref>"
      ]
     },
     "execution_count": 366,
     "metadata": {},
     "output_type": "execute_result"
    }
   ],
   "source": [
    "bias_output = tf.Variable(dtype='float32', initial_value=np.random.normal(mu, sigma), name='bias_output')\n",
    "bias_output"
   ]
  },
  {
   "cell_type": "markdown",
   "metadata": {},
   "source": [
    "## Connect all the layers"
   ]
  },
  {
   "cell_type": "code",
   "execution_count": 367,
   "metadata": {},
   "outputs": [],
   "source": [
    "layer_1 = tf.add(tf.matmul(input_X, weights_1), bias_1)\n",
    "layer_1 = tf.nn.relu(layer_1)"
   ]
  },
  {
   "cell_type": "code",
   "execution_count": 368,
   "metadata": {},
   "outputs": [],
   "source": [
    "dropout_layer_1 = tf.layers.dropout(layer_1, rate=0.5)"
   ]
  },
  {
   "cell_type": "code",
   "execution_count": 369,
   "metadata": {},
   "outputs": [],
   "source": [
    "layer_2 = tf.add(tf.matmul(dropout_layer_1, weights_2), bias_2)\n",
    "layer_2 = tf.nn.sigmoid(layer_2)"
   ]
  },
  {
   "cell_type": "code",
   "execution_count": 370,
   "metadata": {},
   "outputs": [],
   "source": [
    "# dropout_layer_2 = tf.layers.dropout(layer_2, rate=0.5)"
   ]
  },
  {
   "cell_type": "code",
   "execution_count": 371,
   "metadata": {},
   "outputs": [],
   "source": [
    "layer_3 = tf.add(tf.matmul(layer_2, weights_3), bias_3)\n",
    "layer_3 = tf.nn.sigmoid(layer_3)"
   ]
  },
  {
   "cell_type": "code",
   "execution_count": 372,
   "metadata": {},
   "outputs": [],
   "source": [
    "layer_output = tf.add(tf.matmul(layer_2, weights_output), bias_output)"
   ]
  },
  {
   "cell_type": "markdown",
   "metadata": {},
   "source": [
    "### Apply softmax to outputs so that all the outputs add up to 1, then we can treat them as probabilities"
   ]
  },
  {
   "cell_type": "code",
   "execution_count": 373,
   "metadata": {},
   "outputs": [],
   "source": [
    "probabilities = tf.nn.softmax(layer_output)"
   ]
  },
  {
   "cell_type": "markdown",
   "metadata": {},
   "source": [
    "### Choose index of maximum probability"
   ]
  },
  {
   "cell_type": "code",
   "execution_count": 374,
   "metadata": {},
   "outputs": [],
   "source": [
    "prediction = tf.argmax(probabilities, axis=1)"
   ]
  },
  {
   "cell_type": "markdown",
   "metadata": {},
   "source": [
    "### Accuracy = % of prediction correct"
   ]
  },
  {
   "cell_type": "code",
   "execution_count": 375,
   "metadata": {},
   "outputs": [],
   "source": [
    "accuracy = tf.reduce_mean(tf.cast(tf.equal(prediction, tf.argmax(true_y, axis=1)), 'float32')) * 100"
   ]
  },
  {
   "cell_type": "markdown",
   "metadata": {},
   "source": [
    "### Cost for multi-class classification"
   ]
  },
  {
   "cell_type": "code",
   "execution_count": 376,
   "metadata": {},
   "outputs": [],
   "source": [
    "cost = tf.reduce_mean(tf.nn.softmax_cross_entropy_with_logits_v2(logits=layer_output, labels=true_y))"
   ]
  },
  {
   "cell_type": "markdown",
   "metadata": {},
   "source": [
    "### Momentum optimizer"
   ]
  },
  {
   "cell_type": "code",
   "execution_count": 377,
   "metadata": {},
   "outputs": [],
   "source": [
    "optimizer = tf.train.MomentumOptimizer(learning_rate, momentum).minimize(cost)"
   ]
  },
  {
   "cell_type": "markdown",
   "metadata": {},
   "source": [
    "# Initialize Tensorflow session"
   ]
  },
  {
   "cell_type": "code",
   "execution_count": 378,
   "metadata": {},
   "outputs": [],
   "source": [
    "sess = tf.InteractiveSession()"
   ]
  },
  {
   "cell_type": "code",
   "execution_count": 379,
   "metadata": {},
   "outputs": [],
   "source": [
    "sess.run(tf.global_variables_initializer())"
   ]
  },
  {
   "cell_type": "markdown",
   "metadata": {},
   "source": [
    "# Initial error without any optimization"
   ]
  },
  {
   "cell_type": "code",
   "execution_count": 380,
   "metadata": {},
   "outputs": [
    {
     "data": {
      "text/plain": [
       "2.8491542"
      ]
     },
     "execution_count": 380,
     "metadata": {},
     "output_type": "execute_result"
    }
   ],
   "source": [
    "random_index = np.random.choice(X_train.shape[0], batch_size)\n",
    "X_batch, y_batch = X_train[random_index], y_train_one_hot[random_index]\n",
    "\n",
    "cost.eval(feed_dict={\n",
    "    input_X:X_batch,\n",
    "    true_y:y_batch\n",
    "})"
   ]
  },
  {
   "cell_type": "markdown",
   "metadata": {},
   "source": [
    "# Train"
   ]
  },
  {
   "cell_type": "code",
   "execution_count": 381,
   "metadata": {},
   "outputs": [
    {
     "data": {
      "text/plain": [
       "array([ 7162,  1889, 15657, 14327, 26168, 29384, 10778, 11670, 28147,\n",
       "       11196, 18596, 17013,  7107,  2877,   857, 10901, 11555,  6234,\n",
       "       27470,  1635,  4826, 18894, 13275, 16585, 15329, 27859, 28741,\n",
       "        6589,  7940,  4101, 12759, 19534,  5853, 17331, 13865, 12546,\n",
       "       25340, 26178,  2971, 27358,  1780, 28981, 24948, 28340, 10397,\n",
       "        9798, 26343,  3538, 17463,  8534, 21666,  8589,  7133, 27175,\n",
       "       28578, 18414, 16878, 28699,  8156,  8930, 28932, 28094,  3951,\n",
       "        2324,  7096, 16991, 23825, 14728, 15525, 28071, 16819,  2982,\n",
       "       17048, 17053, 14823, 15997,  7500, 14443, 28950,  2492, 19325,\n",
       "        3285,   451, 13487, 21110, 11846, 16089, 18175, 26419, 23235,\n",
       "       20595, 10427, 21395,  4157, 24460, 19961, 17589, 23339, 22846,\n",
       "        6062, 12049, 13412, 18805,  2685, 25786, 18139,  8055,  7659,\n",
       "       15514, 10997,   704, 12842, 12276,  6458,  6643, 27913, 23440,\n",
       "       17638, 15879, 26911, 18768,  9818,   915, 19686,   951, 22178,\n",
       "       14931, 26799, 11143, 15194, 13246,  1238, 22233, 13793, 22423,\n",
       "        2125, 16330,  6831,  2735,  2785, 18364,  7783,  8134, 14985,\n",
       "       12655, 22897, 16148,  8628, 20375, 27913, 27270, 25767,  1322,\n",
       "        7730,   836,  4145, 13819, 27876, 10098, 13596, 23927, 25512,\n",
       "       10485, 11208, 22768, 13350,  8017,  3896,  5787,  8092, 12733,\n",
       "        8776, 23440, 19533, 22528, 22381, 15426,  3667,  3351,  3957,\n",
       "       25550, 19820,  9423, 23239, 16331, 19654, 28999,  7035,   833,\n",
       "         985, 20544, 14646,   343,   701, 23601, 15454, 17599, 14333,\n",
       "       29324,  3970,  9154,   592, 24352,  4739,   344,  6752, 18697,\n",
       "       10223, 13895, 20936, 25965,  8087, 16687,  8244, 28840, 16824,\n",
       "       13315, 25498, 23621, 15139,  5849, 19052,  5577, 15181,  6745,\n",
       "       19135,  9904, 21580,  9915,  3803,  9478, 22346,  5603, 12901,\n",
       "       18174, 27462, 28123, 21451, 15760, 21650, 28776, 26554, 26281,\n",
       "        1475, 19337, 20139, 26905, 21368, 20184,   860, 26331, 19293,\n",
       "       16482,  3002,  3001, 10032, 18383, 18452, 28595, 25217,    26,\n",
       "       18407, 11035, 18776,   234, 23485,  6303, 18829, 15716, 16146,\n",
       "        2181, 19245, 11321,  1620, 28321, 10632, 27331, 16819,  2580,\n",
       "       28294, 26201, 13451, 26098, 20998, 22265,  2222,  1816, 12433,\n",
       "         628, 27036, 15742, 29281,  8599, 27948,  1731, 17135,  4760,\n",
       "       21626, 24674, 14330,  7927, 19833, 20045, 26340,  1202, 27970,\n",
       "       15177, 22718, 12915,  4518,  5057, 13979, 17897, 25338, 25382,\n",
       "       11648, 18176,  6391, 15845, 15526,  3363, 25129,  3114,  3247,\n",
       "       22463,  7767, 22119, 20783, 11987, 14150, 23837,  4915, 10561,\n",
       "       19875,  9840, 22610, 26389,  3407, 10392, 17971,  8086,  4102,\n",
       "       16207, 18332, 21377, 29078, 15063, 10795, 16304, 24380, 25144,\n",
       "       28942,   278, 10091, 28236, 23302, 29355,  1811, 18728, 20616,\n",
       "       11235, 27721, 13202, 23007,  9067, 15609, 16220, 18352, 14609,\n",
       "        2816, 22491, 12201,  2012,  4854, 18141, 24993, 14065, 26026,\n",
       "       28280, 21056,  4711,  9109,  3723, 10521, 14004,  6025,  8476,\n",
       "        8183, 16702, 19476, 26319, 15679,  3648, 24199,  8470, 20408,\n",
       "       20768,  7633, 11443, 28438, 21742,  7568,  2931,  2589, 25679,\n",
       "       14444, 13547,  6184,  7219, 19434, 11920, 17192, 16378,  4331,\n",
       "        5792, 25132, 28091, 26925, 10531, 28684, 24205, 11324, 17129,\n",
       "       15498, 15590, 21613, 28703, 24777, 22969, 15415, 24755,  8859,\n",
       "       15774,  5719,  4714, 10727, 15541, 22313,  9214, 29088,  2027,\n",
       "       17944, 24619, 14583, 12041, 16074, 10570, 11901, 27556,  7399,\n",
       "       17062, 12517,  7996,  3550, 11941, 13631,  5377, 17146, 13060,\n",
       "       18543,  1764,  7935, 28636,  2300, 22810,  2734, 29220, 26040,\n",
       "       28926, 10644,   995, 14367, 18268, 14585, 28227,  9182, 22537,\n",
       "        5404, 21372,  9183, 10805, 22590,  5543, 16741, 22907, 17746,\n",
       "        1685,   519, 23542, 22433, 18214, 14737,  1134, 21422,  2722,\n",
       "         284, 24460, 21800, 21587, 25876,  6422,   680, 11059, 14802,\n",
       "        7658,  2403, 25988, 15337,  9371,   995,  5676, 26251, 12572,\n",
       "        1150, 22559,  4725, 14002,  1098, 25548,  4649, 20798, 13779,\n",
       "       12373, 22540,  3908, 12542, 18618,  6791,   292, 10821,  3523,\n",
       "       16083,  9264, 24088, 17617, 28023, 13752, 26918, 23071,  8406,\n",
       "        3173,  2538, 13996, 27865,  7312,  1617, 11257, 25074, 17974,\n",
       "        9443, 11749, 25632, 19415, 12800,  8494, 28043, 10665,  8955,\n",
       "        5785, 23732, 28924,    49, 28430, 25743, 15220, 29101, 25160,\n",
       "       10338, 15592, 15779, 26891, 13581, 13881, 15369, 19561,  4203,\n",
       "       11523, 18762, 15397, 13253, 23639, 13963, 28051, 14424, 15874,\n",
       "       21401, 10425, 28836, 16898,  6614,   512, 22259, 21889,  4035,\n",
       "        7260,  6909, 26421,  4221, 22735, 27224, 14800,  9449, 11469,\n",
       "        8105,  1134,  3356,  9458, 10658, 21197,  8616,  1313, 12631,\n",
       "       24399, 17664,   375,  8716, 19182, 25028, 29268, 27271, 22693,\n",
       "        7580, 14684,  8198, 11328, 24411,  9251, 25184, 28674,  1321,\n",
       "        8533, 20483, 22859, 20000, 17386, 15218, 17602,  9394,  2052,\n",
       "        4690,  3146, 25411, 15321, 26014, 14463, 20900,  2648, 10498,\n",
       "       19055, 15656, 15247, 16726, 18465,  7667,  7936, 15482,  3618,\n",
       "        3303, 17744,  5656, 20189, 27293, 11820, 15399, 20751, 28003,\n",
       "       22008, 10572,  6053, 11188, 10737, 28267,  3732,  2262, 22981,\n",
       "        5254, 15362,  1423,  2481, 13497, 14512, 22315,  7325, 17285,\n",
       "       15114, 18831,  9065,  9507,  9817,  5960, 27685,  4617,  8193,\n",
       "       20986,  4434,  1623,  9409,   590,  9135, 14370,  3323, 15651,\n",
       "       21466, 25144, 19006, 27248, 12264, 12808,  3910,  3745,   229,\n",
       "       27288,  4790, 19419, 12803, 24308,  7809, 25207, 10721,  8587,\n",
       "       14567,  4925, 25237, 26871,  5793, 22739, 25845, 27917, 28574,\n",
       "        3360,  2231,  9001, 20081,  1976,  4154, 22389, 13944,  1474,\n",
       "        8121,  7649, 17942,  4809,  1845, 16536,  7451, 14377,  3993,\n",
       "       18311, 21272, 15631,  8655,  6341,  7132,  8871,  4062, 22620,\n",
       "       14144, 23542, 28841,  4016, 20840, 25861,  6012, 19334, 18629,\n",
       "        6857,  1442, 24567,  5024,  5609,  4890, 27081, 12060,   412,\n",
       "       22594, 26678,  7949,  1358,  9035, 14674, 15969, 10868,  2504,\n",
       "       15228,  7219, 17249, 18840,  1056,  9711, 25421, 20700,  2380,\n",
       "        2211, 10824, 13215, 29347,  9006, 12680,  1927,  6406,  1896,\n",
       "       26557, 14239,  8695, 16691,  9330,  8968,  4647, 15521, 14873,\n",
       "       27560, 17516, 20548,  4732,  5437, 23556, 18818,  3359,   530,\n",
       "       27279, 23647, 29227, 11269, 19855, 13663,  1682, 14180, 14130,\n",
       "       22610, 22984, 13365, 26361, 13327, 22165, 18474,  3735,  2271,\n",
       "       27577, 26751,  8860, 17152, 21529,  7649, 16327, 19921,  1275,\n",
       "       22193,  8425, 23007,   254,  2951, 22937,  3315, 25349, 19390,\n",
       "       26719,  6452,  8605, 28924,  4125, 15426,   502, 24414,  8620,\n",
       "        5762,  7585, 19184, 13654,  1082, 12787, 15508, 27025, 26587,\n",
       "       27736, 13661,  2528, 18450, 20677,  8469,  2276,  1865, 26158,\n",
       "        8253, 22552, 16250, 20402,  6928,  3198, 26039, 21166, 14277,\n",
       "        5663, 18677, 11143, 17116, 18005, 22550,  4233, 18157,  8435,\n",
       "       24086, 25799, 10219, 28334, 11796,  7344, 24421, 21695, 16056,\n",
       "       14061, 24220, 29248,  7511,  7770,  5959, 22287, 26714,  5682,\n",
       "        6820,  4984, 17537, 16412, 10597, 15365, 23483, 17336,  2378,\n",
       "        6375, 13468, 24299, 26597, 22292, 24324, 23526,  7766,  8418,\n",
       "       11812, 13992, 29009,  4457,  8387, 14969, 16705,  8007, 15919,\n",
       "       18525, 12347, 23870, 10281,  6357, 28056, 11147, 20140,   959,\n",
       "       12739, 14698, 27919, 14953, 12672, 15166,  6828,  5914, 16134,\n",
       "        7001,  6715,  3278,  7075, 17072,  3559, 16960,  4612,  6554,\n",
       "        2738, 10794,   753, 16906, 22812, 13745, 25194,  5593,  7538,\n",
       "       27125,  5315, 17947, 12587, 16287,  7593, 13377,  5102, 20644,\n",
       "       18431,    24,    16, 19781,  3432,  7913, 12045, 27656, 26179,\n",
       "       11773])"
      ]
     },
     "execution_count": 381,
     "metadata": {},
     "output_type": "execute_result"
    }
   ],
   "source": [
    "np.random.choice(X_train.shape[0], batch_size)"
   ]
  },
  {
   "cell_type": "code",
   "execution_count": 382,
   "metadata": {},
   "outputs": [],
   "source": [
    "training_loss_history = []\n",
    "testing_loss_history = []\n",
    "xticks = []"
   ]
  },
  {
   "cell_type": "code",
   "execution_count": 383,
   "metadata": {},
   "outputs": [],
   "source": [
    "# reduce graph_detail_step to see nice, finer graphs at the cost of execution speed\n",
    "graph_detail_step = 10\n",
    "display_step = 100"
   ]
  },
  {
   "cell_type": "code",
   "execution_count": 384,
   "metadata": {},
   "outputs": [],
   "source": [
    "from IPython import display\n",
    "\n",
    "def visualize():\n",
    "    plt.figure(figsize=(20, 10))\n",
    "    \n",
    "    plt.plot(xticks, training_loss_history)\n",
    "    plt.plot(xticks, testing_loss_history)\n",
    "    \n",
    "    # set y-limits for graph\n",
    "    y_min, y_max = 0, max(training_loss_history[0], testing_loss_history[0]) + 1\n",
    "    plt.text(y_min, y_max - 0.5, 'Epoch: {0}\\nTraining Batch Accuracy: {1:.2f}\\nTesting Accuracy: {2:.2f}'.format(i, acc, acc_test), fontsize=20)\n",
    "#     plt.ylim(0, y_max)\n",
    "\n",
    "    plt.legend(['training loss', 'testing loss'])\n",
    "    display.clear_output(wait=True)\n",
    "    plt.show()"
   ]
  },
  {
   "cell_type": "markdown",
   "metadata": {},
   "source": [
    "# Mini-batch Stochastic Gradient Descent"
   ]
  },
  {
   "cell_type": "code",
   "execution_count": null,
   "metadata": {},
   "outputs": [
    {
     "data": {
      "image/png": "[encoded data removed]",
      "text/plain": [
       "<matplotlib.figure.Figure at 0x283a75a6eb8>"
      ]
     },
     "metadata": {},
     "output_type": "display_data"
    }
   ],
   "source": [
    "start_time = time.time()\n",
    "for i in range(training_epochs):\n",
    "    # run optimizer on random samples from training set\n",
    "    random_index = np.random.choice(X_train.shape[0], batch_size)\n",
    "    X_batch, y_batch = X_train[random_index], y_train_one_hot[random_index]\n",
    "    sess.run(optimizer, feed_dict={input_X:X_batch, true_y:y_batch})\n",
    "    \n",
    "    if i % graph_detail_step == 0:\n",
    "        # calculate loss and accuracy for both training and testing set\n",
    "        loss, acc = sess.run([cost, accuracy], feed_dict={input_X:X_batch, true_y:y_batch})\n",
    "        loss_test, acc_test = sess.run([cost, accuracy], feed_dict={input_X:X_val, true_y:y_val_one_hot})\n",
    "        \n",
    "        # visualize\n",
    "        training_loss_history.append(loss)\n",
    "        testing_loss_history.append(loss_test)\n",
    "        xticks.append(i)        \n",
    "    \n",
    "    if i % display_step == 0:\n",
    "        visualize()\n",
    "visualize()"
   ]
  },
  {
   "cell_type": "code",
   "execution_count": null,
   "metadata": {
    "scrolled": true
   },
   "outputs": [],
   "source": [
    "print('Total time taken: {0:.2f}'.format(time.time() - start_time))"
   ]
  },
  {
   "cell_type": "code",
   "execution_count": null,
   "metadata": {},
   "outputs": [],
   "source": [
    "predicted_y = prediction.eval(feed_dict={input_X:X_test, true_y:y_test})"
   ]
  },
  {
   "cell_type": "code",
   "execution_count": null,
   "metadata": {},
   "outputs": [],
   "source": [
    "from sklearn.metrics import classification_report, confusion_matrix"
   ]
  },
  {
   "cell_type": "code",
   "execution_count": null,
   "metadata": {},
   "outputs": [],
   "source": [
    "y_test_class = y_test.argmax(1)"
   ]
  },
  {
   "cell_type": "markdown",
   "metadata": {},
   "source": [
    "## Number of misclassifications"
   ]
  },
  {
   "cell_type": "code",
   "execution_count": null,
   "metadata": {},
   "outputs": [],
   "source": [
    "print('Misclassified: {0}/{1}'.format(np.sum(y_test_class != predicted_y), len(y_test_class)))"
   ]
  },
  {
   "cell_type": "code",
   "execution_count": null,
   "metadata": {},
   "outputs": [],
   "source": [
    "print(confusion_matrix(y_test_class, predicted_y))"
   ]
  },
  {
   "cell_type": "code",
   "execution_count": null,
   "metadata": {},
   "outputs": [],
   "source": [
    "print(classification_report(y_test_class, predicted_y))"
   ]
  },
  {
   "cell_type": "markdown",
   "metadata": {},
   "source": [
    "## Mis-classified images"
   ]
  },
  {
   "cell_type": "code",
   "execution_count": null,
   "metadata": {},
   "outputs": [],
   "source": [
    "mis = y_test_class != predicted_y\n",
    "ind = np.random.choice(np.sum(y_test_class != predicted_y), 9)\n",
    "\n",
    "misclassified_images = X_test[mis][ind]\n",
    "correct_labels = y_test_class[mis][ind]\n",
    "predicted_labels = predicted_y[mis][ind]"
   ]
  },
  {
   "cell_type": "code",
   "execution_count": null,
   "metadata": {},
   "outputs": [],
   "source": [
    "plt.figure(figsize=(10, 10))\n",
    "for i in range(3):\n",
    "    for j in range(3):\n",
    "        k = i * 3 + j\n",
    "        plt.subplot(3, 3, k + 1)\n",
    "        plt.imshow(misclassified_images[k].reshape(28, 28), cmap=\"Greys\");\n",
    "        plt.title('EXP:{0} -> PRED:{1}'.format(correct_labels[k], predicted_labels[k]))\n",
    "plt.tight_layout()\n",
    "plt.show()"
   ]
  },
  {
   "cell_type": "code",
   "execution_count": null,
   "metadata": {},
   "outputs": [],
   "source": []
  }
 ],
 "metadata": {
  "kernelspec": {
   "display_name": "Python 3",
   "language": "python",
   "name": "python3"
  },
  "language_info": {
   "codemirror_mode": {
    "name": "ipython",
    "version": 3
   },
   "file_extension": ".py",
   "mimetype": "text/x-python",
   "name": "python",
   "nbconvert_exporter": "python",
   "pygments_lexer": "ipython3",
   "version": "3.6.4"
  }
 },
 "nbformat": 4,
 "nbformat_minor": 2
}
